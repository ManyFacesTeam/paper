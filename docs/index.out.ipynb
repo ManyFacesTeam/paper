{
 "cells": [
  {
   "cell_type": "markdown",
   "metadata": {},
   "source": [
    "# Capturing Many Faces\n",
    "\n",
    "Thora Bjornsdottir [![](data:image/png;base64,iVBORw0KGgoAAAANSUhEUgAAABAAAAAQCAYAAAAf8/9hAAAAGXRFWHRTb2Z0d2FyZQBBZG9iZSBJbWFnZVJlYWR5ccllPAAAA2ZpVFh0WE1MOmNvbS5hZG9iZS54bXAAAAAAADw/eHBhY2tldCBiZWdpbj0i77u/IiBpZD0iVzVNME1wQ2VoaUh6cmVTek5UY3prYzlkIj8+IDx4OnhtcG1ldGEgeG1sbnM6eD0iYWRvYmU6bnM6bWV0YS8iIHg6eG1wdGs9IkFkb2JlIFhNUCBDb3JlIDUuMC1jMDYwIDYxLjEzNDc3NywgMjAxMC8wMi8xMi0xNzozMjowMCAgICAgICAgIj4gPHJkZjpSREYgeG1sbnM6cmRmPSJodHRwOi8vd3d3LnczLm9yZy8xOTk5LzAyLzIyLXJkZi1zeW50YXgtbnMjIj4gPHJkZjpEZXNjcmlwdGlvbiByZGY6YWJvdXQ9IiIgeG1sbnM6eG1wTU09Imh0dHA6Ly9ucy5hZG9iZS5jb20veGFwLzEuMC9tbS8iIHhtbG5zOnN0UmVmPSJodHRwOi8vbnMuYWRvYmUuY29tL3hhcC8xLjAvc1R5cGUvUmVzb3VyY2VSZWYjIiB4bWxuczp4bXA9Imh0dHA6Ly9ucy5hZG9iZS5jb20veGFwLzEuMC8iIHhtcE1NOk9yaWdpbmFsRG9jdW1lbnRJRD0ieG1wLmRpZDo1N0NEMjA4MDI1MjA2ODExOTk0QzkzNTEzRjZEQTg1NyIgeG1wTU06RG9jdW1lbnRJRD0ieG1wLmRpZDozM0NDOEJGNEZGNTcxMUUxODdBOEVCODg2RjdCQ0QwOSIgeG1wTU06SW5zdGFuY2VJRD0ieG1wLmlpZDozM0NDOEJGM0ZGNTcxMUUxODdBOEVCODg2RjdCQ0QwOSIgeG1wOkNyZWF0b3JUb29sPSJBZG9iZSBQaG90b3Nob3AgQ1M1IE1hY2ludG9zaCI+IDx4bXBNTTpEZXJpdmVkRnJvbSBzdFJlZjppbnN0YW5jZUlEPSJ4bXAuaWlkOkZDN0YxMTc0MDcyMDY4MTE5NUZFRDc5MUM2MUUwNEREIiBzdFJlZjpkb2N1bWVudElEPSJ4bXAuZGlkOjU3Q0QyMDgwMjUyMDY4MTE5OTRDOTM1MTNGNkRBODU3Ii8+IDwvcmRmOkRlc2NyaXB0aW9uPiA8L3JkZjpSREY+IDwveDp4bXBtZXRhPiA8P3hwYWNrZXQgZW5kPSJyIj8+84NovQAAAR1JREFUeNpiZEADy85ZJgCpeCB2QJM6AMQLo4yOL0AWZETSqACk1gOxAQN+cAGIA4EGPQBxmJA0nwdpjjQ8xqArmczw5tMHXAaALDgP1QMxAGqzAAPxQACqh4ER6uf5MBlkm0X4EGayMfMw/Pr7Bd2gRBZogMFBrv01hisv5jLsv9nLAPIOMnjy8RDDyYctyAbFM2EJbRQw+aAWw/LzVgx7b+cwCHKqMhjJFCBLOzAR6+lXX84xnHjYyqAo5IUizkRCwIENQQckGSDGY4TVgAPEaraQr2a4/24bSuoExcJCfAEJihXkWDj3ZAKy9EJGaEo8T0QSxkjSwORsCAuDQCD+QILmD1A9kECEZgxDaEZhICIzGcIyEyOl2RkgwAAhkmC+eAm0TAAAAABJRU5ErkJggg==)](https://orcid.org/0000-0002-1016-3829) (University of Stirling)  \n",
    "Vít Třebický [![](data:image/png;base64,iVBORw0KGgoAAAANSUhEUgAAABAAAAAQCAYAAAAf8/9hAAAAGXRFWHRTb2Z0d2FyZQBBZG9iZSBJbWFnZVJlYWR5ccllPAAAA2ZpVFh0WE1MOmNvbS5hZG9iZS54bXAAAAAAADw/eHBhY2tldCBiZWdpbj0i77u/IiBpZD0iVzVNME1wQ2VoaUh6cmVTek5UY3prYzlkIj8+IDx4OnhtcG1ldGEgeG1sbnM6eD0iYWRvYmU6bnM6bWV0YS8iIHg6eG1wdGs9IkFkb2JlIFhNUCBDb3JlIDUuMC1jMDYwIDYxLjEzNDc3NywgMjAxMC8wMi8xMi0xNzozMjowMCAgICAgICAgIj4gPHJkZjpSREYgeG1sbnM6cmRmPSJodHRwOi8vd3d3LnczLm9yZy8xOTk5LzAyLzIyLXJkZi1zeW50YXgtbnMjIj4gPHJkZjpEZXNjcmlwdGlvbiByZGY6YWJvdXQ9IiIgeG1sbnM6eG1wTU09Imh0dHA6Ly9ucy5hZG9iZS5jb20veGFwLzEuMC9tbS8iIHhtbG5zOnN0UmVmPSJodHRwOi8vbnMuYWRvYmUuY29tL3hhcC8xLjAvc1R5cGUvUmVzb3VyY2VSZWYjIiB4bWxuczp4bXA9Imh0dHA6Ly9ucy5hZG9iZS5jb20veGFwLzEuMC8iIHhtcE1NOk9yaWdpbmFsRG9jdW1lbnRJRD0ieG1wLmRpZDo1N0NEMjA4MDI1MjA2ODExOTk0QzkzNTEzRjZEQTg1NyIgeG1wTU06RG9jdW1lbnRJRD0ieG1wLmRpZDozM0NDOEJGNEZGNTcxMUUxODdBOEVCODg2RjdCQ0QwOSIgeG1wTU06SW5zdGFuY2VJRD0ieG1wLmlpZDozM0NDOEJGM0ZGNTcxMUUxODdBOEVCODg2RjdCQ0QwOSIgeG1wOkNyZWF0b3JUb29sPSJBZG9iZSBQaG90b3Nob3AgQ1M1IE1hY2ludG9zaCI+IDx4bXBNTTpEZXJpdmVkRnJvbSBzdFJlZjppbnN0YW5jZUlEPSJ4bXAuaWlkOkZDN0YxMTc0MDcyMDY4MTE5NUZFRDc5MUM2MUUwNEREIiBzdFJlZjpkb2N1bWVudElEPSJ4bXAuZGlkOjU3Q0QyMDgwMjUyMDY4MTE5OTRDOTM1MTNGNkRBODU3Ii8+IDwvcmRmOkRlc2NyaXB0aW9uPiA8L3JkZjpSREY+IDwveDp4bXBtZXRhPiA8P3hwYWNrZXQgZW5kPSJyIj8+84NovQAAAR1JREFUeNpiZEADy85ZJgCpeCB2QJM6AMQLo4yOL0AWZETSqACk1gOxAQN+cAGIA4EGPQBxmJA0nwdpjjQ8xqArmczw5tMHXAaALDgP1QMxAGqzAAPxQACqh4ER6uf5MBlkm0X4EGayMfMw/Pr7Bd2gRBZogMFBrv01hisv5jLsv9nLAPIOMnjy8RDDyYctyAbFM2EJbRQw+aAWw/LzVgx7b+cwCHKqMhjJFCBLOzAR6+lXX84xnHjYyqAo5IUizkRCwIENQQckGSDGY4TVgAPEaraQr2a4/24bSuoExcJCfAEJihXkWDj3ZAKy9EJGaEo8T0QSxkjSwORsCAuDQCD+QILmD1A9kECEZgxDaEZhICIzGcIyEyOl2RkgwAAhkmC+eAm0TAAAAABJRU5ErkJggg==)](https://orcid.org/0000-0003-1440-1772) (Charles University)  \n",
    "Lisa DeBruine [![](data:image/png;base64,iVBORw0KGgoAAAANSUhEUgAAABAAAAAQCAYAAAAf8/9hAAAAGXRFWHRTb2Z0d2FyZQBBZG9iZSBJbWFnZVJlYWR5ccllPAAAA2ZpVFh0WE1MOmNvbS5hZG9iZS54bXAAAAAAADw/eHBhY2tldCBiZWdpbj0i77u/IiBpZD0iVzVNME1wQ2VoaUh6cmVTek5UY3prYzlkIj8+IDx4OnhtcG1ldGEgeG1sbnM6eD0iYWRvYmU6bnM6bWV0YS8iIHg6eG1wdGs9IkFkb2JlIFhNUCBDb3JlIDUuMC1jMDYwIDYxLjEzNDc3NywgMjAxMC8wMi8xMi0xNzozMjowMCAgICAgICAgIj4gPHJkZjpSREYgeG1sbnM6cmRmPSJodHRwOi8vd3d3LnczLm9yZy8xOTk5LzAyLzIyLXJkZi1zeW50YXgtbnMjIj4gPHJkZjpEZXNjcmlwdGlvbiByZGY6YWJvdXQ9IiIgeG1sbnM6eG1wTU09Imh0dHA6Ly9ucy5hZG9iZS5jb20veGFwLzEuMC9tbS8iIHhtbG5zOnN0UmVmPSJodHRwOi8vbnMuYWRvYmUuY29tL3hhcC8xLjAvc1R5cGUvUmVzb3VyY2VSZWYjIiB4bWxuczp4bXA9Imh0dHA6Ly9ucy5hZG9iZS5jb20veGFwLzEuMC8iIHhtcE1NOk9yaWdpbmFsRG9jdW1lbnRJRD0ieG1wLmRpZDo1N0NEMjA4MDI1MjA2ODExOTk0QzkzNTEzRjZEQTg1NyIgeG1wTU06RG9jdW1lbnRJRD0ieG1wLmRpZDozM0NDOEJGNEZGNTcxMUUxODdBOEVCODg2RjdCQ0QwOSIgeG1wTU06SW5zdGFuY2VJRD0ieG1wLmlpZDozM0NDOEJGM0ZGNTcxMUUxODdBOEVCODg2RjdCQ0QwOSIgeG1wOkNyZWF0b3JUb29sPSJBZG9iZSBQaG90b3Nob3AgQ1M1IE1hY2ludG9zaCI+IDx4bXBNTTpEZXJpdmVkRnJvbSBzdFJlZjppbnN0YW5jZUlEPSJ4bXAuaWlkOkZDN0YxMTc0MDcyMDY4MTE5NUZFRDc5MUM2MUUwNEREIiBzdFJlZjpkb2N1bWVudElEPSJ4bXAuZGlkOjU3Q0QyMDgwMjUyMDY4MTE5OTRDOTM1MTNGNkRBODU3Ii8+IDwvcmRmOkRlc2NyaXB0aW9uPiA8L3JkZjpSREY+IDwveDp4bXBtZXRhPiA8P3hwYWNrZXQgZW5kPSJyIj8+84NovQAAAR1JREFUeNpiZEADy85ZJgCpeCB2QJM6AMQLo4yOL0AWZETSqACk1gOxAQN+cAGIA4EGPQBxmJA0nwdpjjQ8xqArmczw5tMHXAaALDgP1QMxAGqzAAPxQACqh4ER6uf5MBlkm0X4EGayMfMw/Pr7Bd2gRBZogMFBrv01hisv5jLsv9nLAPIOMnjy8RDDyYctyAbFM2EJbRQw+aAWw/LzVgx7b+cwCHKqMhjJFCBLOzAR6+lXX84xnHjYyqAo5IUizkRCwIENQQckGSDGY4TVgAPEaraQr2a4/24bSuoExcJCfAEJihXkWDj3ZAKy9EJGaEo8T0QSxkjSwORsCAuDQCD+QILmD1A9kECEZgxDaEZhICIzGcIyEyOl2RkgwAAhkmC+eAm0TAAAAABJRU5ErkJggg==)](https://orcid.org/0000-0002-7523-5539) (University of Glasgow)"
   ],
   "id": "fadd7bd4-40cc-4fe5-9e7b-b6988be832f0"
  },
  {
   "cell_type": "code",
   "execution_count": null,
   "metadata": {},
   "outputs": [
    {
     "output_type": "stream",
     "name": "stderr",
     "text": [
      "── Attaching core tidyverse packages ──────────────────────── tidyverse 2.0.0 ──\n",
      "✔ dplyr     1.1.4     ✔ readr     2.1.5\n",
      "✔ forcats   1.0.0     ✔ stringr   1.5.2\n",
      "✔ ggplot2   4.0.0     ✔ tibble    3.3.0\n",
      "✔ lubridate 1.9.4     ✔ tidyr     1.3.1\n",
      "✔ purrr     1.1.0     \n",
      "── Conflicts ────────────────────────────────────────── tidyverse_conflicts() ──\n",
      "✖ dplyr::filter() masks stats::filter()\n",
      "✖ dplyr::lag()    masks stats::lag()\n",
      "ℹ Use the conflicted package (<http://conflicted.r-lib.org/>) to force all conflicts to become errors"
     ]
    }
   ],
   "source": [
    "library(tidyverse)"
   ],
   "id": "0a3f8336-f614-49dc-8ad3-d0deb35e5c0d"
  },
  {
   "cell_type": "markdown",
   "metadata": {},
   "source": [
    "## 1 Introduction\n",
    "\n",
    "Centrality of the face in human perception & in research Variety of social perception & recognition topics that use face stimuli Importance of open & transparent methods, current limits for this in terms of stimuli currently\n",
    "\n",
    "### 1.1 Existing face databases\n",
    "\n",
    "-   A wealth of face stimulus databases exist, created for varying purposes. Many of these are available for research use (see e.g., face image meta-database to search many of these) Many studies use the same stimulus databases (e.g., CFD, AFD, Karolinska – check citations of the big ones)\n",
    "-   This can cause issues in terms of generalisability\n",
    "-   Participants online may become familiar with frequently used stimuli\n",
    "-   Other studies use stimuli they collect themselves but cannot necessarily share for ethical reasons\n",
    "-   These are often not well-documented, creates an issue for transparency & replication attempts (can cite Grim Image preprint)\n",
    "-   There are also limitations in terms of many databases’ diversity of stimuli (e.g., many include only White or Western targets/models)\n",
    "-   Recent databases are improving on this (e.g., Hawaii face database, mixed-race database – check Zotero for recent saved papers)\n",
    "-   Crucially, most databases are static. Once collected, the number of stimuli available does not change. (exception: CFD)\n",
    "\n",
    "### 1.2 The current work\n",
    "\n",
    "-   Sought to address the limitations of existing databases\n",
    "-   Collected face images in the lab for experimental control & to have associated demographic data + from consenting individuals\n",
    "-   Vs scraping images from online\n",
    "-   Developed a reproducible and openly-available protocol for face image collection, collecting multiple images per target/model to benefit a wide array of possible research areas/questions\n",
    "-   Transparently documents the process of image collection\n",
    "-   Enables reproducibility\n",
    "-   The database can be added to in the future (i.e., it will not be static)\n",
    "-   Collected images following the protocol in 20 different labs across the world\n",
    "-   specify \\# of countries, world regions (compare to existing databases?)\n",
    "-   Diverse set of models (more so than possible to collect at just one lab)\n",
    "-   Recruited online perceivers to rate a subset of the images (i.e., front-facing images) to generate norming data\n",
    "-   Make the database available for future research\n",
    "-   Altogether, we introduce a new, diverse, openly-available face stimulus set that will continue to grow in the future. We hope that this will broaden the generalisability of findings in face perception and recognition research.\n",
    "\n",
    "## 2 Study/phase 1: Pprotocol development & stimulus collection\n",
    "\n",
    "### 2.1 Method\n",
    "\n",
    "For both studies/phases, the University of Glasgow provided ethical approval. We obtained additional local ethical approval at collaborating institutions where required.\n",
    "\n",
    "#### 2.1.1 Protocol Development\n",
    "\n",
    "The team developed and pre-tested a protocol for collecting standardised and reproducible images of faces for use in research. Following a survey among the ManyFaces team, we constructed the protocol for collection of a variety of images that would be useful for a broad variety of research questions. Specifically, we included images varying in their standardisation of appearance (standardised and unstandardised, e.g., white t-shirt and hair pulled back vs. clothing and hair as worn by the participant/model on that day), viewing angle (frontal, profile, ¾), and facialemotion expression (neutral, natural, angry, disgusted, fearful, happy, sad, surprised).\n",
    "\n",
    "Prior to beginning data collection, the team pre-tested the protocol to ensure clarity of instructions and consistency of images collected across sites. We revised details within the protocol to resolve issues that arose (e.g., revised facial expression emotion elicitation instructions, clarified camera settings). The final protocol can be found at \\[https://docs.google.com/document/d/1D9TPGXCgTRZi7nqEIg6jb42R4gNQx9L3qasg8tFvu1I/edit?usp=sharing\\]. In sum, the protocol detailed the following:\n",
    "\n",
    "-   Image Types. The protocol defined the categories of images in terms of their standardisation of appearance, viewing angle, and facial expression.\n",
    "-   Standardisation of Appearance. In the standardised images models wore a white t-shirt, had their hair pulled back or covered, included no adornments/accessories (excepting those that could not be removed for cultural reasons), and wore minimal or no makeup. In contrast, unstandardised images showed models in their own clothing, with their hair as they came into the lab, and with adornments excepting glasses or anything obscuring the face or neck.\n",
    "-   Viewing Angle. Full frontal portraits showed models facing the camera, left and right profile portraits showed each side of models’ faces in profile, and left and right ¾ portraits showed models’ faces at a 45-degree angle from the axis of the camera.\n",
    "-   Facial Expression. Neutral images were of models refraining from making any facial expression, natural images displayed a natural expression for the model, and each facial expression of emotion displayed the expression the model would make if they were feeling the specified emotion (e.g., happiness).\n",
    "\n",
    "#### 2.1.2 Image Prioritisation\n",
    "\n",
    "The protocol specified which images to take (i.e., the combinations of appearance standardisation, viewing angle, and emotion expression), in what order, and which were most crucial to collect if researchers were under time constraints. The order of image collection was as follows, with starred (\\*) images prioritised/required for each model:\n",
    "\n",
    "-   Exposure calibration photo\\*\n",
    "-   Identification & calibration photo\\*\n",
    "-   Unstandardized - Natural - Full frontal portrait\n",
    "-   Unstandardized - Neutral - Full frontal portrait\\*\n",
    "-   Unstandardized - Neutral - Left and Right profile portraits\n",
    "-   Unstandardized - Neutral - Left and Right ¾ portraits\n",
    "-   Unstandardized - Happy - Full frontal portrait\\*\n",
    "-   Unstandardized - Happy - Left and Right profile portraits\n",
    "-   Unstandardized - Happy - Left and Right ¾ portraits\n",
    "-   Unstandardized - All other expressions (in random or appropriate order) - Full frontal portrait\n",
    "-   Standardized - Natural - Full frontal portrait\n",
    "-   Standardized - Neutral - Full frontal portrait\\*\n",
    "-   Standardized - Neutral - Left and Right profile portraits\\*\n",
    "-   Standardized - Neutral - Left and Right ¾ portraits\\*\n",
    "-   Standardized - Happy - Full frontal portrait\\*\n",
    "-   Standardized - Happy - Left and Right profile portraits\n",
    "-   Standardized - Happy - Left and Right ¾ portraits\n",
    "-   Standardized - All other expressions (in random or appropriate order) - Full frontal portrait\n",
    "\n",
    "Researchers with additional time could also capture the other expressions at different viewing angles (Left/Right profile, ¾) with either unstandardized or standardized appearance, as well as a video of standardized appearance to test out 3D image capture.\n",
    "\n",
    "#### 2.1.3 Equipment\n",
    "\n",
    "All collaborating sites/labs used the same set of equipment. Images were captured using a Canon EOS 250d (also called Canon EOS Rebel SL3 in some regions) camera with Canon 18-55mm IS STM lens, and lit by an LED Ring light (Fovitec Bi-Colour LED 18” Ring Light) on a stand. Colour calibration was via a Calibrite colourChecker Classic card. The image collection space had a white background with a chair for models to sit in. Researchers provided white t-shirts for models to wear for standardised images.\n",
    "\n",
    "#### 2.1.4 Setup\n",
    "\n",
    "The setup of the room used for image collection at each site required removing or minimising outside light sources (e.g., using a windowless room, turning off overhead lights) and colour spill. The protocol specified the distances at which to set up the chair for models to sit in relative to the white background and the lighting and camera rig. Camera setup instructions including the specified shooting mode, shutter speed, aperture, ISO, white balance, and colour space.\n",
    "\n",
    "#### 2.1.5 Procedure\n",
    "\n",
    "Finally, the protocol detailed how to prepare and position models and how to take each kind of images listed in the image prioritisation section. This included the positioning of the model’s head for each viewing angle and facial expression elicitation instructions.\n",
    "\n",
    "### 2.2 Stimulus Collection\n",
    "\n",
    "Following the protocol, 20 labs (1 in Austria, 2 in Brazil, 2 in Canada, 2 in Germany, 1 in Israel, 3 in Malaysia, 1 in Mexico, 1 in the Netherlands, 1 in Serbia, 4 in the UK, and 2 in the US) \\[note \\# of labs per country\\] collected images of an average of 10 models per site. As specified by the protocol, researchers collected multiple images of each model, within the time constraints of the study session.\n",
    "\n",
    "Models furthermore completed a demographic questionnaire via Experimentum, reporting their age, gender, ethnicity, height, and weight. They also reported whether or not they were wearing makeup (specifying what kinds, e.g., foundation, eye makeup, semi-permanent makeup) and whether they had ever experienced anything that could affect the shape of their face (e.g., broken nose, cosmetic surgery or injections, orthodontic work) and specified this if they were willing.… Finally, they completed a debriefing questionnaire asking them about their experience of posing for the images (e.g., whether instructions were clear, whether any part of the process was uncomfortable). Results\n",
    "\n",
    "211 total models provided their images, following withdrawals and exclusions for poor image quality. <a href=\"#tbl-images-per-type\" class=\"quarto-xref\">Table 1</a> details the number of models for Detail resulting number of models from each site \\[after exclusions for photo quality & model withdrawals\\], number of each kind of photo. collected"
   ],
   "id": "05cab3e7-3702-414d-aa9d-a87260342d2e"
  },
  {
   "cell_type": "code",
   "execution_count": null,
   "metadata": {},
   "outputs": [],
   "source": [
    "data.frame()"
   ],
   "id": "c27cfa42-cd5f-47da-9a1e-e92fac18cbf8"
  },
  {
   "cell_type": "markdown",
   "metadata": {},
   "source": [
    "\\[link to where the images can be requested\\] \\[example images\\]\n",
    "\n",
    "For data cleaning, we first downloaded and reshaped the raw data from Experimentum. In the next step, we ensured that the models’ gender, race/ethnicity, and units of height and weight were consistently formatted across labs. For gender and race/ethnicity, words presented in languages other than English were recoded to be presented in English (e.g., “mulher” to “female”, “preta” to “Black”). We then classified self-described race/ethnicity into one of seven categories (“White”, “Black”, “Asian”, “Indigenous”, “MENA” (Middle Eastern or North African), “Latine”, or “Mixed”), where possible. Descriptions that could not be clearly sorted into these categories were given “Ambiguous label” (non-entries were recoded as NA). For height, we ensured all data were presented in centimetres, and for weight, we ensured that all data were presented in kilograms. Models could report height and weight in metric or imperial units, so we converted from imperial to metric where required. We also sanity-checked the reported units, assuming heights \\> 100 to be in centimetres and those \\< 100 to be in inches, and weights \\< 80 to be in kilograms. Any non-entries of height or weight for a model was recoded as NA."
   ],
   "id": "79d329ec-a417-4212-9d45-1ef410dcf2d4"
  },
  {
   "cell_type": "code",
   "execution_count": null,
   "metadata": {},
   "outputs": [],
   "source": [
    "data.frame(a = 1:5)"
   ],
   "id": "f404bb0e-5db0-47ae-9610-e72fba4f5e5c"
  },
  {
   "cell_type": "markdown",
   "metadata": {},
   "source": [
    "## 3 Study/phase 2: Validation/norming data\n",
    "\n",
    "We next obtained perceptions/ratings of a subset of the photos (front-facing) to validate the emotion expressions (their perceived emotion category and intensity) and collect norming data on central social perceptions, namely perceived attractiveness, dominance, trustworthiness, gender-typicality, memorability, and age. We chose these ratings due to their central importance in the person perception, face recognition, and emotion perception literatures (e.g., Oosterhof & Todorov, 2008; Sutherland et al., 2013; Perrett, 2010; –add emotion & memorability/recognition cites–). We preregistered this study on the OSF (<https://osf.io/4d5v9>).\n",
    "\n",
    "### 3.1 Method\n",
    "\n",
    "#### 3.1.1 Image Processing\n",
    "\n",
    "RAW images were processed using webmorphR (https://doi.org/10.31234/osf.io/j2754), which facilitates scriptable processing of images using imagemagick; a full script of the processing steps is available at REPO LINK. Briefly,\n",
    "\n",
    "-   Each face was delineated using the Face++ automatic face detection algorithm to generate a 106-point template.\n",
    "-   All images were resized to 1000w by 1500h pixels to standardise size (two different RAW formats were used, which resulted in two different image sizes)\n",
    "-   The median RGB colour value of a 100x100 pixel patch at the upper left corner was calculated to fill in any edges from alignment.\n",
    "-   The image was repositioned and cropped (not rotated or resized) such that\n",
    "    -   The image size was 675w by 900h\n",
    "    -   point 71 (between the eyes) was relocated to position \\[.5w, .4h\\]\n",
    "-   This aligned image was saved as a lossless PNG using imagemagick default settings (e.g., sRGB colour space).\n",
    "-   A white balance correction was applied to the resulting images, calculated from the mean RGB values in the 25x25 pixel top-right corner patch\n",
    "-   These images were converted to JPEGs with a quality setting of 75 to reduce file size for stimulus display online."
   ],
   "id": "c7306558-ce6f-4738-91d7-3acf43cb81f6"
  },
  {
   "cell_type": "code",
   "execution_count": null,
   "metadata": {},
   "outputs": [
    {
     "output_type": "display_data",
     "metadata": {},
     "data": {}
    }
   ],
   "source": [
    "ggplot()"
   ],
   "id": "cell-fig-img-processing"
  },
  {
   "cell_type": "markdown",
   "metadata": {},
   "source": [
    "#### 3.1.2 Stimuli\n",
    "\n",
    "The number of stimuli was determined by the number of modelstargets recruited across the 20 research labs and how many models posed for each image type; the maximum number of targets per image type was 205in total we have 205 targets, which means that each rater saw up to 205 stimuli. We obtained ratings of the front-facing standardised neutral (n = 205), unstandardised neutral (n = 188), standardised angry (n = 187), standardised disgusted (n = 184), standardised fearful (n = 175), standardised happy (n = 199), standardised sad (n = 183), and standardised surprised (n = 184)."
   ],
   "id": "d0c19118-6a0b-40fb-9094-041549213fe1"
  },
  {
   "cell_type": "code",
   "execution_count": null,
   "metadata": {},
   "outputs": [
    {
     "output_type": "display_data",
     "metadata": {},
     "data": {}
    }
   ],
   "source": [
    "ggplot()"
   ],
   "id": "cell-fig-stim-examples"
  },
  {
   "cell_type": "markdown",
   "metadata": {},
   "source": [
    "#### 3.1.3 Attention Check Stimuli\n",
    "\n",
    "Additionally, we created stimuli for attention checks. These were white images with the same size and aspect ratio as the face stimuli, but contained only the written instruction to choose a specific response, (e.g., ‘Choose “fear”’ or ’Choose 3”).\n",
    "\n",
    "### 3.2 Measures\n",
    "\n",
    "#### 3.2.1 Standardised Neutral Faces\n",
    "\n",
    "##### 3.2.1.1 Trait Ratings\n",
    "\n",
    "We obtained ratings of faces’ attractiveness, dominance, trustworthiness, memorability, and gender-typicality (‘How attractive \\[dominant, trustworthy, memorable, gender-typical\\] does this person look?’). Ratings were on scales ranging from 1 (not at all) to 7 (very)\n",
    "\n",
    "##### 3.2.1.2 Demographic Impressions\n",
    "\n",
    "We obtained ratings of faces’ perceived age (‘How old does this person look?’), with responses collected in 5-year ranges/brackets (i.e., 16-20, 21-25, …, 76-80, 81+).\n",
    "\n",
    "#### 3.2.2 Unstandardised Neutral Faces\n",
    "\n",
    "##### 3.2.2.1 Trait Ratings\n",
    "\n",
    "We obtained ratings of faces’ attractiveness, dominance, and trustworthiness on scales ranging from 1 (not at all) to 7 (very)\n",
    "\n",
    "#### 3.2.3 Standardised Emotional Faces\n",
    "\n",
    "##### 3.2.3.1 Emotion Categorisation\n",
    "\n",
    "We obtained impressions of the emotion each person was expressing (‘What emotion is this person expressing?’), choosing one from: anger, disgust, fear, happiness, sadness, surprise, other. Here, raters categorised a counterbalanced mixture of expressions (from one of six counterbalanced conditions) rather than faces all showing the same expression. The 201 identities with emotion images were divided into six groups of up to 34 images, and each counterbalanced condition showed a different emotion for each of the six groups, such that no identity was shown more than once to each rater. Since not all identities had all six emotions, the number of images in each counterbalanced condition ranged from 179 to 193.\n",
    "\n",
    "##### 3.2.3.2 Emotion Intensity Ratings\n",
    "\n",
    "We obtained ratings of how intensely faces expressed each intended emotion (‘How intensely is this person expressing anger \\[disgust, fear, happiness, sadness, surprise\\]?’) from 1 (not at all) to 7 (very). Here, raters only rated all faces showing one emotion expression (e.g., all angry faces) and rated the intensity only of the intended expression (e.g., angry faces only rated on anger intensity).\n",
    "\n",
    "#### 3.2.4 Procedure\n",
    "\n",
    "We collected ratings via Experimentum (DeBruine et al., 2020); structure files for the exact experimental setup are available at REPO. After a brief introduction to the study and online informed consent, each participant (rater) was randomly allocated to one of the ratings (e.g., rating all 205 standardised neutral faces on how memorable they look). All available faces were displayed one at a time, in a randomised order for each rater. The question/prompt and response scale remained visible at the top of the screen, above the photo throughout the study. The study automatically progressed to the next trial once the rater responded by clicking on the response scale. There was no time limit to provide a response. We included seven attention checks embedded in the study, which directed raters to provide a specific response. Following rating or categorising all stimuli, raters self-reported their gender, age, race/ethnicity, country of residence, and device type used for the study (desktop, laptop, tablet, mobile). They also completed an honesty/attention check question, asking them if they engaged with the study seriously, with assurance of payment regardless of response (choosing from ‘no, I was not really paying attention’ and ‘yes, I tried to give my authentic first impressions’). Raters were recruited through Prolific Academic. We collected all data in May 2025.\n",
    "\n",
    "#### 3.2.5 Participants\n",
    "\n",
    "We aimed to collect 100 raters per rating condition (to achieve stable averages and allow for exclusions), totalling 2100 raters. Altogether, 2115 raters completed the study. See Results for exclusions and demographics of the final sample.\n",
    "\n",
    "### 3.3 Results\n",
    "\n",
    "#### 3.3.1 Data Cleaning and Exclusions\n",
    "\n",
    "##### 3.3.1.1 Models\n",
    "\n",
    "For data cleaning, we first downloaded and reshaped the raw data from Experimentum. In the next step, we ensured that the models’ gender, race/ethnicity, and units of height and weight were consistently formatted across labs. For gender and race/ethnicity, words presented in languages other than English were recoded to be presented in English (e.g., “mulher” to “female”, “preta” to “Black”). We then classified self-described race/ethnicity into one of seven categories (“White”, “Black”, “Asian”, “Indigenous”, “MENA” (Middle Eastern or North African), “Latine”, or “Mixed”), where possible. Descriptions that could not be clearly sorted into these categories were given “Ambiguous label” (non-entries were recoded as NA). For height, we ensured all data were presented in centimetres, and for weight, we ensured that all data were presented in kilograms. Models could report height and weight in metric or imperial units, so we converted from imperial to metric where required. We also sanity-checked the reported units, assuming heights \\> 100 to be in centimetres and those \\< 100 to be in inches, and weights \\< 80 to be in kilograms. Any non-entries of height or weight for a model was recoded as NA.\n",
    "\n",
    "##### 3.3.1.2 Raters\n",
    "\n",
    "In the raters’ demographic questionnaire, we standardized participants’ recording of their race/ethnicity similarly to the models’ by recoding their inputs into one of seven categories (“White”, “Black”, “Asian”, “Indigenous/Pacific Islander”, “MENA” (Middle Eastern or North African), “Latine”, or “Mixed”), or as “Ambiguous label” when this was not possible. Any non-entries were recoded as NA.\n",
    "\n",
    "##### 3.3.1.3 Data Exclusions\n",
    "\n",
    "A total of 2115 raters completed 2158 rating or categorisation tasks. We found that some raters did not complete all trials in tasks, some raters completed more than one task, and some raters completed more than the maximum number of trials in a task (likely by restarting the study or bypassing the back button block). Therefore, we removed incomplete tasks from our data, retained raters’ first complete tasks, and filtered our duplicate trials by keeping only raters’ first ratings for a duplicated trial. After these exclusions, and before implementing the pre-registered plan for data exclusions, we had complete and clean data from 1936 raters.\n",
    "\n",
    "Our pre-registered plan for data exclusions included removing raters who gave overly consistent responses, committed overly fast responses, self-reported not taking the study seriously when asked whether or not they completed the study authentically, and failed attention checks. In total, we excluded 249 raters for our pre-registered reasons for data exclusions. <a href=\"#tbl-exclusions\" class=\"quarto-xref\">Table 3</a> shows the number of raters we excluded for each of our reasons."
   ],
   "id": "0b42741b-d9d6-49cc-9e47-390d40150fa3"
  },
  {
   "cell_type": "code",
   "execution_count": null,
   "metadata": {},
   "outputs": [],
   "source": [
    "# tbl-subcap: Multiple raters met more than one exclusion criterion; therefore, the counts for individual criteria do not sum to the total number of raters excluded.\n",
    "\n",
    "data.frame(a = 1:5)"
   ],
   "id": "281d87a7-ed89-44c3-9e1a-ae4a680bd92f"
  },
  {
   "cell_type": "markdown",
   "metadata": {},
   "source": [
    "We defined overly consistent responses as those raters who responded to at least 90% of the trials identically. We defined overly fast responses as those raters whose median reaction time fell below the 1st percentile of the overall distribution of median reaction times (see Figure 1 for the distribution of median reaction times). For our attention checks, the threshold for inclusion was to accurately complete six or more attention checks (i.e., participants were excluded if they failed one or more of the checks). After these exclusions, we had 1899 raters in our sample (see <a href=\"#tbl-raters-per-task\" class=\"quarto-xref\">Table 4</a> for the number of raters per task)."
   ],
   "id": "58695a78-ea08-4bb1-bf64-2310c65ad5e2"
  },
  {
   "cell_type": "code",
   "execution_count": null,
   "metadata": {},
   "outputs": [
    {
     "output_type": "display_data",
     "metadata": {},
     "data": {}
    }
   ],
   "source": [
    "ggplot()"
   ],
   "id": "cell-fig-rt-distribution"
  },
  {
   "cell_type": "code",
   "execution_count": null,
   "metadata": {},
   "outputs": [],
   "source": [
    "data.frame(a = 1:5)"
   ],
   "id": "7a6b861a-cf00-4f08-8436-0cf97f708781"
  },
  {
   "cell_type": "markdown",
   "metadata": {},
   "source": [
    "##### 3.3.1.4 Rater Demographics\n",
    "\n",
    "We collected the following demographic data from our raters (N = 1676 of 1899 provided data): Age, gender, residence, ethnicity, and devices on which the ratings were completed. See <a href=\"#fig-gender-age\" class=\"quarto-xref\">Figure 4</a> and Tables 3-5 for demographic information."
   ],
   "id": "bab4e128-3d43-4ada-bde4-8e9330b539a6"
  },
  {
   "cell_type": "code",
   "execution_count": null,
   "metadata": {},
   "outputs": [
    {
     "output_type": "display_data",
     "metadata": {},
     "data": {}
    }
   ],
   "source": [
    "ggplot()"
   ],
   "id": "cell-fig-gender-age"
  },
  {
   "cell_type": "code",
   "execution_count": null,
   "metadata": {},
   "outputs": [],
   "source": [
    "data.frame(1:5)"
   ],
   "id": "f9077061-a8be-4a1c-9241-69ea8af30567"
  },
  {
   "cell_type": "code",
   "execution_count": null,
   "metadata": {},
   "outputs": [],
   "source": [
    "data.frame(1:5)"
   ],
   "id": "881a6c20-4cf2-41ff-90eb-b5f3d044dcfe"
  },
  {
   "cell_type": "code",
   "execution_count": null,
   "metadata": {},
   "outputs": [],
   "source": [
    "data.frame(1:5)"
   ],
   "id": "3b081045-0511-4e3f-8224-29082f937eea"
  },
  {
   "cell_type": "markdown",
   "metadata": {},
   "source": [
    "### 3.4 Agreement Indicators for the Ratings\n",
    "\n",
    "#### 3.4.1 Standardized Trait Ratings\n",
    "\n",
    "In the first step, we calculated intraclass correlations for traits observed across tasks for our standardized images. The number of raters ranged from 83 to 94 for these traits. The average reliability across raters was very good for rating attractiveness, dominance, trustworthiness, and gender-typicality, but poorer for rating memorability (see <a href=\"#tbl-std-neu-agree\" class=\"quarto-xref\">Table 8</a>)."
   ],
   "id": "b8c185e2-3c28-4da8-96e4-7b9f1894ad37"
  },
  {
   "cell_type": "code",
   "execution_count": null,
   "metadata": {},
   "outputs": [],
   "source": [
    "# tbl-subcap: ICCs values are ICC (2,k) values.\n",
    "\n",
    "data.frame(1:5)"
   ],
   "id": "8214b65d-d19e-4ad8-8896-09e333cc4f46"
  },
  {
   "cell_type": "markdown",
   "metadata": {},
   "source": [
    "Next, we examined the number of raters required for trait ratings to reach stable levels of reliability defined as ICC (2,k) values of 0.75 and 0.90 (see Figure 3). Attractiveness ratings stabilized with the fewest participants, reaching an ICC (2,k) of 0.75 at approximately 18 raters. It was also the only trait to exceed an ICC (2,k) of 0.90, which occurred with 50 raters. Ratings for dominance, trustworthiness, and gender-typicality reached an ICC (2,k) of 0.75 with approximately 35-40 raters."
   ],
   "id": "f6fb589f-ebdc-4c0e-a96a-b94c61017aef"
  },
  {
   "cell_type": "code",
   "execution_count": null,
   "metadata": {},
   "outputs": [
    {
     "output_type": "display_data",
     "metadata": {},
     "data": {}
    }
   ],
   "source": [
    "ggplot()"
   ],
   "id": "cell-fig-icc-cos"
  },
  {
   "cell_type": "markdown",
   "metadata": {},
   "source": [
    "For checking internal consistency of our ratings, we used both Cronbach’s alpha (α) and McDonald’s omega total (ωt) (see <a href=\"#tbl-std-neu-agree\" class=\"quarto-xref\">Table 8</a>). For four of the five traits, both α and ωt exceeded 0.9, indicating excellent internal consistency. For the fifth trait (memorability), α was lower (0.65), indicating doubtful internal consistency when assuming equal item contributions (tau-equivalence) in the ratings. However, ωt for memorability was substantially higher (0.87), indicating good internal consistency after taking into account variance among item or rater contributions.\n",
    "\n",
    "##### 3.4.1.1 Unstandardized Trait Ratings\n",
    "\n",
    "As with our standardized trait ratings, but for three rather than five traits, we calculated intraclass correlations for ratings to our unstandardized images observed across rating tasks. The number of raters ranged from 84 to 95 for these traits. The average reliability across raters was very good for all trait ratings (see <a href=\"#tbl-unstd-neu-agree\" class=\"quarto-xref\">Table 9</a>). All three traits also demonstrated excellent internal consistency (see <a href=\"#tbl-unstd-neu-agree\" class=\"quarto-xref\">Table 9</a>) with Cronbach’s alpha (α) ranging from 0.88 to 0.95 and McDonald’s omega total (ωt) ranging from 0.90 to 0.96."
   ],
   "id": "8f1c5a60-c679-40df-8a9b-34ebec8d988c"
  },
  {
   "cell_type": "code",
   "execution_count": null,
   "metadata": {},
   "outputs": [],
   "source": [
    "# tbl-subcap: ICCs values are ICC (2,k) values.\n",
    "\n",
    "data.frame(1:5)"
   ],
   "id": "90d0072d-7d1e-4bbb-a5ae-46c4825ce640"
  },
  {
   "cell_type": "markdown",
   "metadata": {},
   "source": [
    "##### 3.4.1.2 Emotion Intensity Ratings\n",
    "\n",
    "Next, we calculated the intraclass correlations and internal consistency metrics for our emotion intensity ratings. The number of raters ranged from 84 to 103 for our six emotions. The average reliability across raters was excellent for all of the emotions, with ICC (2,k) ranging from 0.95 to 0.98. Internal consistency was also excellent for all emotions in terms of Cronbach’s alpha (α = 0.97 to 0.99) and McDonald’s omega total (ωt = 0.97 to 0.99; see <a href=\"#tbl-emo-agree\" class=\"quarto-xref\">Table 10</a>)."
   ],
   "id": "efb5c412-4b19-47ce-b7b9-d80fe650adc6"
  },
  {
   "cell_type": "code",
   "execution_count": null,
   "metadata": {},
   "outputs": [],
   "source": [
    "# tbl-subcap: ICCs values are ICC (2,k) values.\n",
    "\n",
    "data.frame(1:5)"
   ],
   "id": "35568f17-ab7d-4f2e-bfbf-5c8dc54c1fc9"
  },
  {
   "cell_type": "markdown",
   "metadata": {},
   "source": [
    "#### 3.4.2 Points of Stability\n",
    "\n",
    "To determine the number of raters required for stable ratings, we computed the point of stability (Hehman et al., 2018). This approach estimates the smallest sample size at which mean ratings stabilize by exceeding a cosine similarity threshold of 0.5 with the full-sample mean. As shown in Figures 4-6, the ratings to the standardized images reached stability between 37 and 45 raters, the ratings to the unstandardized images reached stability between 37 and 42 raters, and the ratings for the emotion intensities reached stability between 29 and 50 raters."
   ],
   "id": "15fcb1dd-16f5-4248-88b7-22a2aa0d6887"
  },
  {
   "cell_type": "code",
   "execution_count": null,
   "metadata": {},
   "outputs": [
    {
     "output_type": "display_data",
     "metadata": {},
     "data": {}
    }
   ],
   "source": [
    "ggplot()"
   ],
   "id": "cell-fig-std-neu-pos"
  },
  {
   "cell_type": "code",
   "execution_count": null,
   "metadata": {},
   "outputs": [
    {
     "output_type": "display_data",
     "metadata": {},
     "data": {}
    }
   ],
   "source": [
    "ggplot()"
   ],
   "id": "cell-fig-unstd-neu-pos"
  },
  {
   "cell_type": "code",
   "execution_count": null,
   "metadata": {},
   "outputs": [
    {
     "output_type": "display_data",
     "metadata": {},
     "data": {}
    }
   ],
   "source": [
    "ggplot()"
   ],
   "id": "cell-fig-emo-pos"
  },
  {
   "cell_type": "markdown",
   "metadata": {},
   "source": [
    "### 3.5 Descriptive Statistics\n",
    "\n",
    "In this section, we report the descriptive statistics for ratings of the neutral standardized images, the neutral unstandardized images, the emotion categorization task, the intensity of expressed emotions, and the ages of the models.\n",
    "\n",
    "#### 3.5.1 Standardized Neutral Trait Ratings\n",
    "\n",
    "Trustworthiness, dominance, and memorability ratings were approximately normally distributed and showed similar patterns of central tendency and variance. In contrast, attractiveness ratings were somewhat right-skewed, reflected in a relatively lower mean, while gender-typicality ratings were left-skewed, with a relatively higher mean (see <a href=\"#tbl-std-neu-desc\" class=\"quarto-xref\">Table 11</a> for descriptive statistics and <a href=\"#fig-std-neu-hist\" class=\"quarto-xref\">Figure 9</a> for rating distributions)."
   ],
   "id": "e12342cc-74f2-4e15-9983-8a39afc468c0"
  },
  {
   "cell_type": "code",
   "execution_count": null,
   "metadata": {},
   "outputs": [],
   "source": [
    "data.frame(1:5)"
   ],
   "id": "4d62185f-97fb-46ba-b869-b8bd2ead0d7e"
  },
  {
   "cell_type": "code",
   "execution_count": null,
   "metadata": {},
   "outputs": [
    {
     "output_type": "display_data",
     "metadata": {},
     "data": {}
    }
   ],
   "source": [
    "ggplot()"
   ],
   "id": "cell-fig-std-neu-hist"
  },
  {
   "cell_type": "markdown",
   "metadata": {},
   "source": [
    "A key aim of this study was to provide normative data for each face model in the database. To visualize rating patterns, we created heatmaps with rating values on the x-axis and face models (separated by contributing lab site) on the y-axis. These heatmaps illustrate how the distribution of ratings varied across models and traits, with lighter tiles indicating that more raters gave a particular rating to that model (see Appendix). —capturing both between-model differences within a trait and within-model differences across traits\n",
    "\n",
    "##### 3.5.1.1 Unstandardized Neutral Trait Ratings\n",
    "\n",
    "The ratings for dominance were approximately normally distributed while the ratings for attractiveness were slightly skewed right and the ratings for trustworthiness were slightly skewed left, each reflected in their relatively low and high mean ratings (see <a href=\"#tbl-unstd-neu-desc\" class=\"quarto-xref\">Table 12</a> for descriptive statistics and <a href=\"#fig-unstd-neu-hist\" class=\"quarto-xref\">Figure 10</a> for rating distributions)."
   ],
   "id": "9d4ca082-d3eb-4da9-8af1-0ccec3114c5a"
  },
  {
   "cell_type": "code",
   "execution_count": null,
   "metadata": {},
   "outputs": [],
   "source": [
    "data.frame(1:5)"
   ],
   "id": "3186b0a9-df1c-43db-afdd-a65a1c76c79d"
  },
  {
   "cell_type": "code",
   "execution_count": null,
   "metadata": {},
   "outputs": [
    {
     "output_type": "display_data",
     "metadata": {},
     "data": {}
    }
   ],
   "source": [
    "ggplot()"
   ],
   "id": "cell-fig-unstd-neu-hist"
  },
  {
   "cell_type": "markdown",
   "metadata": {},
   "source": [
    "As with the ratings of the standardized images, we produced heatmaps for each of the three traits capturing between-model differences within a trait and within-model differences across the traits (see Figure 10).\n",
    "\n",
    "Emotion Categorisation and Intensity Ratings. Next, we explored raters’ emotion categorizations and perceived emotion intensity expressed by our models. Raters’ categorisations generally aligned with the models’ expression of emotion, with the greatest alignment was observed for expression of happiness, and the least for fear (<a href=\"#tbl-emo-desc\" class=\"quarto-xref\">Table 13</a>, <a href=\"#fig-emo-freq\" class=\"quarto-xref\">Figure 11</a>)."
   ],
   "id": "3e220379-0361-4b9d-834d-c31dc861b38f"
  },
  {
   "cell_type": "code",
   "execution_count": null,
   "metadata": {},
   "outputs": [],
   "source": [
    "# tbl-subcap: Note. Italicised values indicate correct categorisations (categorisations matching intended model expression).\n",
    "\n",
    "data.frame(1:5)"
   ],
   "id": "c38f9178-790a-4e89-8424-dd0b01879494"
  },
  {
   "cell_type": "code",
   "execution_count": null,
   "metadata": {},
   "outputs": [],
   "source": [
    "ggplot()"
   ],
   "id": "e5ac25bb-e680-409e-b6ef-13f9e3c8e936"
  },
  {
   "cell_type": "markdown",
   "metadata": {},
   "source": [
    "Next, we calculated the average ratings of emotion intensity for each emotion (<a href=\"#tbl-intensity-desc\" class=\"quarto-xref\">Table 14</a>). These ratings were very similar, on average, between the different emotions except for happiness, which was rated with greater intensity than all other emotions. On average, these ratings were located around the middle of the 7-point scale. <a href=\"#fig-intensity-hist\" class=\"quarto-xref\">Figure 12</a> shows the distribution of ratings on the scale for each emotion."
   ],
   "id": "d4946fd7-8a29-440f-90e6-c000b25341f2"
  },
  {
   "cell_type": "code",
   "execution_count": null,
   "metadata": {},
   "outputs": [],
   "source": [
    "data.frame(1:5)"
   ],
   "id": "513b5b90-4612-46ad-9877-436db18d08d4"
  },
  {
   "cell_type": "code",
   "execution_count": null,
   "metadata": {},
   "outputs": [
    {
     "output_type": "display_data",
     "metadata": {},
     "data": {}
    }
   ],
   "source": [
    "ggplot()"
   ],
   "id": "cell-fig-intensity-hist"
  },
  {
   "cell_type": "markdown",
   "metadata": {},
   "source": [
    "##### 3.5.1.2 Perceived Age\n",
    "\n",
    "The distribution of raters’ perceptions of models’ ages is shown in Figure 13. 26-30 years was the most-chosen age across raters and models. The correlation between models’ mode perceived age and actual age appears in Figure 14, and heatmaps of perceived age for each model appear in Figure 15."
   ],
   "id": "3a549eae-1453-4bca-abf0-28f8875d654f"
  },
  {
   "cell_type": "code",
   "execution_count": null,
   "metadata": {},
   "outputs": [
    {
     "output_type": "display_data",
     "metadata": {},
     "data": {}
    }
   ],
   "source": [
    "ggplot()"
   ],
   "id": "cell-fig-age-hist"
  },
  {
   "cell_type": "code",
   "execution_count": null,
   "metadata": {},
   "outputs": [
    {
     "output_type": "display_data",
     "metadata": {},
     "data": {}
    }
   ],
   "source": [
    "ggplot()"
   ],
   "id": "cell-fig-age-corr"
  },
  {
   "cell_type": "markdown",
   "metadata": {},
   "source": [
    "\\[link to where the data can be accessed – this can go on OSF, yes? Check Glasgow ethics\\]\n",
    "\n",
    "## 4 Discussion\n",
    "\n",
    "The value of the database\n",
    "\n",
    "Provides proof of concept that various labs, all following the same protocol and using the same equipment, can take comparable images to form a coherent face database.\n",
    "\n",
    "Ratings data provide information about the minimum number of raters needed for reliable mean ratings for different judgements\n",
    "\n",
    "Reflections on the process (including feedback survey responses + our own reflections on this project)\n",
    "\n",
    "Explaining certain methods choices & what others might want to do in the future (e.g., in image processing, alignment, image size and face location driven by cropping needs - fix in future)\n",
    "\n",
    "The problem of emotion - the emotion validation suggests that people are bad at either making or perceiving emotions - this is a very difficult thing and might be beyond the capacity of a project like this to gather good emotion images"
   ],
   "id": "ffe080f4-0585-4b99-8cd5-8f61a4915fe1"
  }
 ],
 "nbformat": 4,
 "nbformat_minor": 5,
 "metadata": {}
}
